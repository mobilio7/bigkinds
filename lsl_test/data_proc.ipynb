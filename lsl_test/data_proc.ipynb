{
 "cells": [
  {
   "cell_type": "code",
   "execution_count": 1,
   "id": "b5cec218",
   "metadata": {},
   "outputs": [],
   "source": [
    "import json\n",
    "\n",
    "with open('train_original.json', 'r', encoding='UTF-8') as f:\n",
    "    json_data = json.load(f)"
   ]
  },
  {
   "cell_type": "code",
   "execution_count": null,
   "id": "7588fb29",
   "metadata": {},
   "outputs": [],
   "source": [
    "for i in range(0,5):\n",
    "    text = json_data['documents'][i]['text']\n",
    "    cnt = len(text)\n",
    "\n",
    "    for idx in range(cnt):\n",
    "        try:\n",
    "            print(text[idx][0]['sentence'] )\n",
    "            texts.append(text[idx][0]['sentence'] )\n",
    "        except:\n",
    "            pass\n"
   ]
  },
  {
   "cell_type": "code",
   "execution_count": 5,
   "id": "6724a27e",
   "metadata": {},
   "outputs": [],
   "source": [
    "arr_data = []\n",
    "\n",
    "for idx,data in enumerate(json_data['documents']):\n",
    "    # if idx > 5:\n",
    "    #     break\n",
    "\n",
    "    # if idx < 2:\n",
    "    #     continue\n",
    "\n",
    "    dict_data = dict()\n",
    "    dict_data['media'] = data['media_name']\n",
    "    dict_data['id'] = data['id']\n",
    "    dict_data['abstractive'] = data['abstractive'][0]\n",
    "    dict_data['extractive'] = data['extractive']\n",
    "    dict_data['article_original'] = []\n",
    "    for text in data['text']:\n",
    "        try:\n",
    "            sentence = text[0]['sentence']\n",
    "            dict_data['article_original'].append(sentence)\n",
    "        except:\n",
    "            pass\n",
    "\n",
    "    arr_data.append(dict_data)\n",
    "\n",
    "    # print(arr_data)"
   ]
  },
  {
   "cell_type": "code",
   "execution_count": 6,
   "id": "8b9587bd",
   "metadata": {},
   "outputs": [],
   "source": [
    "def dicts_to_jsonl(data_list: list, filename: str) -> None:\n",
    "    \"\"\"\n",
    "    Method saves list of dicts into jsonl file.\n",
    "    :param data: (list) list of dicts to be stored,\n",
    "    :param filename: (str) path to the output file. If suffix .jsonl is not given then methods appends\n",
    "        .jsonl suffix into the file.\n",
    "    :param compress: (bool) should file be compressed into a gzip archive?\n",
    "    \"\"\"\n",
    "    sjsonl = '.jsonl'\n",
    "    # Check filename\n",
    "    if not filename.endswith(sjsonl):\n",
    "        filename = filename + sjsonl\n",
    "    # Save data\n",
    "\n",
    "\n",
    "    with open(filename, 'w', encoding=\"utf-8\") as out:\n",
    "        for ddict in data_list:\n",
    "            jout = json.dumps(ddict) + '\\n'\n",
    "            out.write(jout)\n",
    "\n",
    "dicts_to_jsonl(arr_data, 'train')"
   ]
  }
 ],
 "metadata": {
  "kernelspec": {
   "display_name": "Python 3.9.13 ('base')",
   "language": "python",
   "name": "python3"
  },
  "language_info": {
   "codemirror_mode": {
    "name": "ipython",
    "version": 3
   },
   "file_extension": ".py",
   "mimetype": "text/x-python",
   "name": "python",
   "nbconvert_exporter": "python",
   "pygments_lexer": "ipython3",
   "version": "3.9.13"
  },
  "vscode": {
   "interpreter": {
    "hash": "f1a4a2f3c51900e879c65470871c76860eabd5596e5067eeaa31aed8adcbad33"
   }
  }
 },
 "nbformat": 4,
 "nbformat_minor": 5
}
