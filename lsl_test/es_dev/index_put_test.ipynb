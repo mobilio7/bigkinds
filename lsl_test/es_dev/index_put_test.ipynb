{
 "cells": [
  {
   "cell_type": "code",
   "execution_count": 10,
   "metadata": {},
   "outputs": [
    {
     "name": "stdout",
     "output_type": "stream",
     "text": [
      "2022-11-28\n"
     ]
    }
   ],
   "source": [
    "# 실행 시간 기준 00:15\n",
    "# 날짜 검색 기준 전날 00:00 ~ 24:00\n",
    "import datetime\n",
    "\n",
    "now = datetime.datetime.now()\n",
    "nowDate = now.strftime('%Y-%m-%d')\n",
    "print(nowDate)"
   ]
  },
  {
   "cell_type": "code",
   "execution_count": 9,
   "metadata": {},
   "outputs": [
    {
     "name": "stdout",
     "output_type": "stream",
     "text": [
      "[{'xml_path': '../data/newsml\\\\01100201\\\\2021\\\\11\\\\11\\\\01100201.20211111000455001.xml', 'NewsItemId': '01100201.20211111000455001'}, {'xml_path': '../data/newsml\\\\01100201\\\\2021\\\\11\\\\11\\\\01100201.20211111000553001.xml', 'NewsItemId': '01100201.20211111000553001'}, {'xml_path': '../data/newsml\\\\01100201\\\\2021\\\\11\\\\11\\\\01100201.20211111000712001.xml', 'NewsItemId': '01100201.20211111000712001'}, {'xml_path': '../data/newsml\\\\01100201\\\\2021\\\\11\\\\11\\\\01100201.20211111000712002.xml', 'NewsItemId': '01100201.20211111000712002'}, {'xml_path': '../data/newsml\\\\01100201\\\\2021\\\\11\\\\11\\\\01100201.20211111001248001.xml', 'NewsItemId': '01100201.20211111001248001'}, {'xml_path': '../data/newsml\\\\01400351\\\\2003\\\\09\\\\02\\\\01400351.20030902085903010.xml', 'NewsItemId': '01400351.20030902085903010'}, {'xml_path': '../data/newsml\\\\01400351\\\\2003\\\\09\\\\02\\\\01400351.20030902085903011.xml', 'NewsItemId': '01400351.20030902085903011'}, {'xml_path': '../data/newsml\\\\01400351\\\\2003\\\\09\\\\02\\\\01400351.20030902085903012.xml', 'NewsItemId': '01400351.20030902085903012'}, {'xml_path': '../data/newsml\\\\01400351\\\\2003\\\\09\\\\04\\\\01400351.20030904085905015.xml', 'NewsItemId': '01400351.20030904085905015'}, {'xml_path': '../data/newsml\\\\01400351\\\\2003\\\\09\\\\04\\\\01400351.20030904085905016.xml', 'NewsItemId': '01400351.20030904085905016'}, {'xml_path': '../data/newsml\\\\01400351\\\\2003\\\\09\\\\04\\\\01400351.20030904085905017.xml', 'NewsItemId': '01400351.20030904085905017'}, {'xml_path': '../data/newsml\\\\01400351\\\\2003\\\\09\\\\04\\\\01400351.20030904085905018.xml', 'NewsItemId': '01400351.20030904085905018'}, {'xml_path': '../data/newsml\\\\01400351\\\\2003\\\\09\\\\04\\\\01400351.20030904085905019.xml', 'NewsItemId': '01400351.20030904085905019'}, {'xml_path': '../data/newsml\\\\01400351\\\\2003\\\\09\\\\04\\\\01400351.20030904085905020.xml', 'NewsItemId': '01400351.20030904085905020'}, {'xml_path': '../data/newsml\\\\01400351\\\\2003\\\\09\\\\04\\\\01400351.20030904085905021.xml', 'NewsItemId': '01400351.20030904085905021'}, {'xml_path': '../data/newsml\\\\01400351\\\\2003\\\\09\\\\04\\\\01400351.20030904085905022.xml', 'NewsItemId': '01400351.20030904085905022'}]\n"
     ]
    }
   ],
   "source": [
    "# 모든 파일 scan 하여 file_data_arr에 담아두기 dict형태\n",
    "import glob\n",
    "\n",
    "file_arr = glob.glob('../data/newsml/*/*/*/*/*.xml')\n",
    "file_dict_list = []\n",
    "for file in file_arr :\n",
    "    file_dict = dict()\n",
    "    file_dict['xml_path'] = file\n",
    "    file_dict['NewsItemId'] = file.split('\\\\')[5].replace(\".xml\",\"\")\n",
    "    file_dict_list.append(file_dict)"
   ]
  },
  {
   "cell_type": "code",
   "execution_count": 11,
   "metadata": {},
   "outputs": [
    {
     "name": "stdout",
     "output_type": "stream",
     "text": [
      "['01100201.20211111000455001', '01400351.20030902085903010']\n"
     ]
    }
   ],
   "source": [
    "# log DB에서 불러오기\n",
    "\n",
    "import pymysql\n",
    "from elasticsearch import Elasticsearch\n",
    "# MySQL Connection 연결\n",
    "con = pymysql.connect(host='192.168.0.227', user='user', password='lab13579'\n",
    "    ,db='NEWSDB', charset='utf8') # 한글처리 (charset = 'utf8')\n",
    "\n",
    "# Connection 으로부터 Cursor 생성\n",
    "cur = con.cursor()\n",
    "\n",
    "# SQL문 실행 및 Fetch\n",
    "sql = \"\"\"\n",
    "    SELECT NEWSITEMID\n",
    "    FROM tb_batch_log \n",
    "    WHERE date(batch_date) BETWEEN %s AND %s\n",
    "        AND status_cd = 'FAIL'\n",
    "\"\"\"\n",
    "cur.execute(sql, (str(nowDate), str(nowDate)))\n",
    "\n",
    "# 데이타 Fetch\n",
    "rows = cur.fetchall()\n",
    "\n",
    "# 전날의 es insert 실패 아이디 목록\n",
    "fail_id_list = []\n",
    "\n",
    "for row in rows:\n",
    "    fail_id_list.append(row[0])\n",
    "\n",
    "print(fail_id_list)"
   ]
  },
  {
   "cell_type": "code",
   "execution_count": null,
   "metadata": {},
   "outputs": [],
   "source": [
    "# log DB에서 에러 발생한 NewsItemId xml읽고 추가\n",
    "for fail_id in fail_id_list:\n",
    "    for file_dict in file_dict_list:\n",
    "        if fail_id == file_dict['NewsItemId']:\n",
    "            add_doc(file_dict['xml_path'])"
   ]
  },
  {
   "cell_type": "code",
   "execution_count": 22,
   "metadata": {},
   "outputs": [
    {
     "name": "stdout",
     "output_type": "stream",
     "text": [
      "kpf_bigkindslab_v1.1_2022\n"
     ]
    },
    {
     "name": "stderr",
     "output_type": "stream",
     "text": [
      "C:\\Users\\user\\AppData\\Local\\Temp\\ipykernel_6464\\2586177558.py:21: DeprecationWarning: The 'body' parameter is deprecated for the 'search' API and will be removed in a future version. Instead use API parameters directly. See https://github.com/elastic/elasticsearch-py/issues/1698 for more information\n",
      "  es_results = es.search(index=\"kpf_bigkindslab_v.1.1_202111\", body=body)\n"
     ]
    },
    {
     "ename": "NotFoundError",
     "evalue": "NotFoundError(404, 'index_not_found_exception', 'no such index [kpf_bigkindslab_v.1.1_202111]', kpf_bigkindslab_v.1.1_202111, index_or_alias)",
     "output_type": "error",
     "traceback": [
      "\u001b[1;31m---------------------------------------------------------------------------\u001b[0m",
      "\u001b[1;31mNotFoundError\u001b[0m                             Traceback (most recent call last)",
      "\u001b[1;32md:\\Users\\user\\bigkinds\\lsl_test\\es_dev\\index_put_test.ipynb 셀 5\u001b[0m in \u001b[0;36m<cell line: 21>\u001b[1;34m()\u001b[0m\n\u001b[0;32m      <a href='vscode-notebook-cell:/d%3A/Users/user/bigkinds/lsl_test/es_dev/index_put_test.ipynb#W1sZmlsZQ%3D%3D?line=7'>8</a>\u001b[0m \u001b[39mprint\u001b[39m(index)\n\u001b[0;32m     <a href='vscode-notebook-cell:/d%3A/Users/user/bigkinds/lsl_test/es_dev/index_put_test.ipynb#W1sZmlsZQ%3D%3D?line=9'>10</a>\u001b[0m body \u001b[39m=\u001b[39m {\n\u001b[0;32m     <a href='vscode-notebook-cell:/d%3A/Users/user/bigkinds/lsl_test/es_dev/index_put_test.ipynb#W1sZmlsZQ%3D%3D?line=10'>11</a>\u001b[0m     \u001b[39m\"\u001b[39m\u001b[39mquery\u001b[39m\u001b[39m\"\u001b[39m:{\n\u001b[0;32m     <a href='vscode-notebook-cell:/d%3A/Users/user/bigkinds/lsl_test/es_dev/index_put_test.ipynb#W1sZmlsZQ%3D%3D?line=11'>12</a>\u001b[0m         \u001b[39m\"\u001b[39m\u001b[39mrange\u001b[39m\u001b[39m\"\u001b[39m:{\n\u001b[1;32m   (...)\u001b[0m\n\u001b[0;32m     <a href='vscode-notebook-cell:/d%3A/Users/user/bigkinds/lsl_test/es_dev/index_put_test.ipynb#W1sZmlsZQ%3D%3D?line=17'>18</a>\u001b[0m     }\n\u001b[0;32m     <a href='vscode-notebook-cell:/d%3A/Users/user/bigkinds/lsl_test/es_dev/index_put_test.ipynb#W1sZmlsZQ%3D%3D?line=18'>19</a>\u001b[0m }\n\u001b[1;32m---> <a href='vscode-notebook-cell:/d%3A/Users/user/bigkinds/lsl_test/es_dev/index_put_test.ipynb#W1sZmlsZQ%3D%3D?line=20'>21</a>\u001b[0m es_results \u001b[39m=\u001b[39m es\u001b[39m.\u001b[39;49msearch(index\u001b[39m=\u001b[39;49m\u001b[39m\"\u001b[39;49m\u001b[39mkpf_bigkindslab_v.1.1_202111\u001b[39;49m\u001b[39m\"\u001b[39;49m, body\u001b[39m=\u001b[39;49mbody)\n\u001b[0;32m     <a href='vscode-notebook-cell:/d%3A/Users/user/bigkinds/lsl_test/es_dev/index_put_test.ipynb#W1sZmlsZQ%3D%3D?line=22'>23</a>\u001b[0m \u001b[39mfor\u001b[39;00m result \u001b[39min\u001b[39;00m es_results[\u001b[39m'\u001b[39m\u001b[39mhits\u001b[39m\u001b[39m'\u001b[39m][\u001b[39m'\u001b[39m\u001b[39mhits\u001b[39m\u001b[39m'\u001b[39m]:\n\u001b[0;32m     <a href='vscode-notebook-cell:/d%3A/Users/user/bigkinds/lsl_test/es_dev/index_put_test.ipynb#W1sZmlsZQ%3D%3D?line=23'>24</a>\u001b[0m     \u001b[39mprint\u001b[39m(result)\n",
      "File \u001b[1;32md:\\Users\\user\\anaconda3\\lib\\site-packages\\elasticsearch\\client\\utils.py:347\u001b[0m, in \u001b[0;36mquery_params.<locals>._wrapper.<locals>._wrapped\u001b[1;34m(*args, **kwargs)\u001b[0m\n\u001b[0;32m    345\u001b[0m     \u001b[39mif\u001b[39;00m p \u001b[39min\u001b[39;00m kwargs:\n\u001b[0;32m    346\u001b[0m         params[p] \u001b[39m=\u001b[39m kwargs\u001b[39m.\u001b[39mpop(p)\n\u001b[1;32m--> 347\u001b[0m \u001b[39mreturn\u001b[39;00m func(\u001b[39m*\u001b[39margs, params\u001b[39m=\u001b[39mparams, headers\u001b[39m=\u001b[39mheaders, \u001b[39m*\u001b[39m\u001b[39m*\u001b[39mkwargs)\n",
      "File \u001b[1;32md:\\Users\\user\\anaconda3\\lib\\site-packages\\elasticsearch\\client\\__init__.py:1830\u001b[0m, in \u001b[0;36mElasticsearch.search\u001b[1;34m(self, body, index, doc_type, params, headers)\u001b[0m\n\u001b[0;32m   1827\u001b[0m \u001b[39mif\u001b[39;00m \u001b[39m\"\u001b[39m\u001b[39mfrom_\u001b[39m\u001b[39m\"\u001b[39m \u001b[39min\u001b[39;00m params:\n\u001b[0;32m   1828\u001b[0m     params[\u001b[39m\"\u001b[39m\u001b[39mfrom\u001b[39m\u001b[39m\"\u001b[39m] \u001b[39m=\u001b[39m params\u001b[39m.\u001b[39mpop(\u001b[39m\"\u001b[39m\u001b[39mfrom_\u001b[39m\u001b[39m\"\u001b[39m)\n\u001b[1;32m-> 1830\u001b[0m \u001b[39mreturn\u001b[39;00m \u001b[39mself\u001b[39;49m\u001b[39m.\u001b[39;49mtransport\u001b[39m.\u001b[39;49mperform_request(\n\u001b[0;32m   1831\u001b[0m     \u001b[39m\"\u001b[39;49m\u001b[39mPOST\u001b[39;49m\u001b[39m\"\u001b[39;49m,\n\u001b[0;32m   1832\u001b[0m     _make_path(index, doc_type, \u001b[39m\"\u001b[39;49m\u001b[39m_search\u001b[39;49m\u001b[39m\"\u001b[39;49m),\n\u001b[0;32m   1833\u001b[0m     params\u001b[39m=\u001b[39;49mparams,\n\u001b[0;32m   1834\u001b[0m     headers\u001b[39m=\u001b[39;49mheaders,\n\u001b[0;32m   1835\u001b[0m     body\u001b[39m=\u001b[39;49mbody,\n\u001b[0;32m   1836\u001b[0m )\n",
      "File \u001b[1;32md:\\Users\\user\\anaconda3\\lib\\site-packages\\elasticsearch\\transport.py:466\u001b[0m, in \u001b[0;36mTransport.perform_request\u001b[1;34m(self, method, url, headers, params, body)\u001b[0m\n\u001b[0;32m    464\u001b[0m             \u001b[39mraise\u001b[39;00m e\n\u001b[0;32m    465\u001b[0m     \u001b[39melse\u001b[39;00m:\n\u001b[1;32m--> 466\u001b[0m         \u001b[39mraise\u001b[39;00m e\n\u001b[0;32m    468\u001b[0m \u001b[39melse\u001b[39;00m:\n\u001b[0;32m    469\u001b[0m     \u001b[39m# connection didn't fail, confirm it's live status\u001b[39;00m\n\u001b[0;32m    470\u001b[0m     \u001b[39mself\u001b[39m\u001b[39m.\u001b[39mconnection_pool\u001b[39m.\u001b[39mmark_live(connection)\n",
      "File \u001b[1;32md:\\Users\\user\\anaconda3\\lib\\site-packages\\elasticsearch\\transport.py:427\u001b[0m, in \u001b[0;36mTransport.perform_request\u001b[1;34m(self, method, url, headers, params, body)\u001b[0m\n\u001b[0;32m    424\u001b[0m connection \u001b[39m=\u001b[39m \u001b[39mself\u001b[39m\u001b[39m.\u001b[39mget_connection()\n\u001b[0;32m    426\u001b[0m \u001b[39mtry\u001b[39;00m:\n\u001b[1;32m--> 427\u001b[0m     status, headers_response, data \u001b[39m=\u001b[39m connection\u001b[39m.\u001b[39;49mperform_request(\n\u001b[0;32m    428\u001b[0m         method,\n\u001b[0;32m    429\u001b[0m         url,\n\u001b[0;32m    430\u001b[0m         params,\n\u001b[0;32m    431\u001b[0m         body,\n\u001b[0;32m    432\u001b[0m         headers\u001b[39m=\u001b[39;49mheaders,\n\u001b[0;32m    433\u001b[0m         ignore\u001b[39m=\u001b[39;49mignore,\n\u001b[0;32m    434\u001b[0m         timeout\u001b[39m=\u001b[39;49mtimeout,\n\u001b[0;32m    435\u001b[0m     )\n\u001b[0;32m    437\u001b[0m     \u001b[39m# Lowercase all the header names for consistency in accessing them.\u001b[39;00m\n\u001b[0;32m    438\u001b[0m     headers_response \u001b[39m=\u001b[39m {\n\u001b[0;32m    439\u001b[0m         header\u001b[39m.\u001b[39mlower(): value \u001b[39mfor\u001b[39;00m header, value \u001b[39min\u001b[39;00m headers_response\u001b[39m.\u001b[39mitems()\n\u001b[0;32m    440\u001b[0m     }\n",
      "File \u001b[1;32md:\\Users\\user\\anaconda3\\lib\\site-packages\\elasticsearch\\connection\\http_urllib3.py:291\u001b[0m, in \u001b[0;36mUrllib3HttpConnection.perform_request\u001b[1;34m(self, method, url, params, body, timeout, ignore, headers)\u001b[0m\n\u001b[0;32m    287\u001b[0m \u001b[39mif\u001b[39;00m \u001b[39mnot\u001b[39;00m (\u001b[39m200\u001b[39m \u001b[39m<\u001b[39m\u001b[39m=\u001b[39m response\u001b[39m.\u001b[39mstatus \u001b[39m<\u001b[39m \u001b[39m300\u001b[39m) \u001b[39mand\u001b[39;00m response\u001b[39m.\u001b[39mstatus \u001b[39mnot\u001b[39;00m \u001b[39min\u001b[39;00m ignore:\n\u001b[0;32m    288\u001b[0m     \u001b[39mself\u001b[39m\u001b[39m.\u001b[39mlog_request_fail(\n\u001b[0;32m    289\u001b[0m         method, full_url, url, orig_body, duration, response\u001b[39m.\u001b[39mstatus, raw_data\n\u001b[0;32m    290\u001b[0m     )\n\u001b[1;32m--> 291\u001b[0m     \u001b[39mself\u001b[39;49m\u001b[39m.\u001b[39;49m_raise_error(response\u001b[39m.\u001b[39;49mstatus, raw_data)\n\u001b[0;32m    293\u001b[0m \u001b[39mself\u001b[39m\u001b[39m.\u001b[39mlog_request_success(\n\u001b[0;32m    294\u001b[0m     method, full_url, url, orig_body, response\u001b[39m.\u001b[39mstatus, raw_data, duration\n\u001b[0;32m    295\u001b[0m )\n\u001b[0;32m    297\u001b[0m \u001b[39mreturn\u001b[39;00m response\u001b[39m.\u001b[39mstatus, response_headers, raw_data\n",
      "File \u001b[1;32md:\\Users\\user\\anaconda3\\lib\\site-packages\\elasticsearch\\connection\\base.py:328\u001b[0m, in \u001b[0;36mConnection._raise_error\u001b[1;34m(self, status_code, raw_data)\u001b[0m\n\u001b[0;32m    325\u001b[0m \u001b[39mexcept\u001b[39;00m (\u001b[39mValueError\u001b[39;00m, \u001b[39mTypeError\u001b[39;00m) \u001b[39mas\u001b[39;00m err:\n\u001b[0;32m    326\u001b[0m     logger\u001b[39m.\u001b[39mwarning(\u001b[39m\"\u001b[39m\u001b[39mUndecodable raw error response from server: \u001b[39m\u001b[39m%s\u001b[39;00m\u001b[39m\"\u001b[39m, err)\n\u001b[1;32m--> 328\u001b[0m \u001b[39mraise\u001b[39;00m HTTP_EXCEPTIONS\u001b[39m.\u001b[39mget(status_code, TransportError)(\n\u001b[0;32m    329\u001b[0m     status_code, error_message, additional_info\n\u001b[0;32m    330\u001b[0m )\n",
      "\u001b[1;31mNotFoundError\u001b[0m: NotFoundError(404, 'index_not_found_exception', 'no such index [kpf_bigkindslab_v.1.1_202111]', kpf_bigkindslab_v.1.1_202111, index_or_alias)"
     ]
    }
   ],
   "source": [
    "# es에서 불러오기\n",
    "from elasticsearch import Elasticsearch\n",
    "\n",
    "es = Elasticsearch('http://localhost:9199')\n",
    "# print(str(nowDate))\n",
    "\n",
    "index = 'kpf_bigkindslab_v1.1_'+str(nowDate)[:4]\n",
    "print(index)\n",
    "\n",
    "body = {\n",
    "    \"query\":{\n",
    "        \"range\":{\n",
    "            \"@timestamp\": {\n",
    "                \"gte\": str(nowDate),\n",
    "                \"lte\": str(nowDate)\n",
    "            }\n",
    "        }\n",
    "    }\n",
    "}\n",
    "\n",
    "es_results = es.search(index=\"kpf_bigkindslab_v.1.1_202111\", body=body)\n",
    "\n",
    "for result in es_results['hits']['hits']:\n",
    "    print(result)"
   ]
  },
  {
   "cell_type": "code",
   "execution_count": null,
   "metadata": {},
   "outputs": [],
   "source": [
    "# NewsItemId 값 비교 (파일 scan, es)\n",
    "\n",
    "# 파일 scan에 있지만 es에 등록되지 않은 NewsItemId 찾아 xml 읽어낸 후 es에 추가"
   ]
  },
  {
   "cell_type": "code",
   "execution_count": 5,
   "metadata": {},
   "outputs": [
    {
     "name": "stdout",
     "output_type": "stream",
     "text": [
      "{'Catalog': {'Href': 'http://newsml.or.kr/topicset/MasterCatalog.xml'}, 'NewsEnvelope': {'DateAndTime': '20211111T000455+0900'}, 'NewsItem': {'Identification': {'NewsIdentifier': {'ProviderId': 'kmib.co.kr', 'DateId': '20211111', 'NewsItemId': '01100201.20211111000455001', 'RevisionId': {'PreviousRevision': '1', 'Update': 'U', 'text': '2'}, 'PublicIdentifier': 'kmib.co.kr:20211111:01100201.20211111000455001:2'}}, 'NewsManagement': {'NewsItemType': {'FormalName': 'News'}, 'FirstCreated': '20211201T194214+0900', 'ThisRevisionCreated': '20211111T000355+0900', 'Status': {'FormalName': 'Usable'}, 'StatusWillChange': {'FutureStatus': {'FormalName': 'Usable'}, 'DateAndTime': '20211201T194214+0900'}, 'Urgency': {'FormalName': '6'}}, 'NewsComponent': {'Role': {'FormalName': 'Main'}, 'NewsLines': {'HeadLine': '고무장갑 손, 기름에 넣고 탕수육 튀긴 고교생 태준이', 'SubHeadLine': '<고졸 노동자, 그 서러운 이름> ③ 일자리 보장 받으려 위험 노동', 'ByLine': '박민지', 'DateLine': '20211111T000355+0900', 'CreditLine': None, 'CopyrightLine': 'Copyright(C) 국민일보. All Right Reserved.', 'RightsLine': None, 'SeriesLine': None, 'SlugLine': None, 'KeywordLine': None}, 'AdministrativeMetadata': {'FileName': '01100201.20211111000455001.xml', 'Provider': {'Comment': '국민일보', 'Party': {'FormalName': '01100201'}}, 'Creator': {'Party': {'FormalName': '001', 'Property': [{'FormalName': 'Name', 'Value': '박민지'}, {'FormalName': 'Title', 'Value': ''}, {'FormalName': 'Post', 'Value': ''}, {'FormalName': 'Email', 'Value': 'pmj@kmib.co.kr'}, {'FormalName': 'Blog', 'Value': ''}]}}}, 'DescriptiveMetadata': {'Language': {'FormalName': 'ko'}, 'Genre': {'FormalName': 'Current'}, 'SubjectCode': {'Subject': {'FormalName': ''}, 'SubjectMatter': {'FormalName': ''}, 'SubjectDetail': {'FormalName': ''}}, 'DateLineDate': '20211111', 'Location': {'HowPresent': 'Origin', 'Property': {'FormalName': 'Country', 'Value': ''}}}, 'Metadata': {'Property': [{'FormalName': 'PublishDate', 'Value': '20211111'}, {'FormalName': 'PublisherCode', 'Value': ''}, {'FormalName': 'PaperEdition', 'Value': '1'}, {'FormalName': 'PageCategory', 'Value': '사회'}, {'FormalName': 'PageCategoryId', 'Value': ''}, {'FormalName': 'PrintingPage', 'Value': '8'}, {'FormalName': 'PrintingPageNo', 'Value': '0'}, {'FormalName': 'GenreInfo', 'Value': ''}, {'FormalName': 'KsOrgan', 'Value': ''}, {'FormalName': 'KsCompany', 'Value': ''}, {'FormalName': 'KsPeople', 'Value': ''}, {'FormalName': 'UciCode', 'Value': 'G703:RA101-01100201.20211111000455001:2'}, {'FormalName': 'ModifyInfo', 'Value': ''}, {'FormalName': 'CharacterCounter', 'Value': '2662'}, {'FormalName': 'NewsItemOrgId', 'Value': '0924217747'}, {'FormalName': 'LinkPage', 'Value': 'http://news.kmib.co.kr/article/view.asp?arcid=0924217747&code=11131100'}, {'FormalName': 'LinkmPage', 'Value': ''}, {'FormalName': 'SubjectInfo', 'Value': '사회'}, {'FormalName': 'SubjectInfo1', 'Value': '사회일반'}, {'FormalName': 'SubjectInfo2', 'Value': '11131100'}, {'FormalName': 'SubjectInfo3', 'Value': ''}, {'FormalName': 'SubjectInfo4', 'Value': ''}, {'FormalName': 'MapSubjectInfo', 'Value': ''}, {'FormalName': 'AutoSubjectInfo', 'Value': '사회,노동_복지|사회,교육_시험|사회,여성'}, {'FormalName': 'AutoSubjectCode', 'Value': '003000000,003005000|003000000,003004000|003000000,003002000'}, {'FormalName': 'AutoKeywordInfo', 'Value': '박군,탕수육 조리,현장실습,학교 급식실,하지만,탕수육 조리 방법,하지만 현장실습,급식실,자격증,작업 현장'}, {'FormalName': 'Latitude', 'Value': ''}, {'FormalName': 'Longitude', 'Value': ''}, {'FormalName': 'PageCoordinate', 'Value': ''}, {'FormalName': 'GroupCoordinate', 'Value': ''}, {'FormalName': 'ScrapPage', 'Value': ''}, {'FormalName': 'ScrapCategoryId', 'Value': ''}, {'FormalName': 'ScrapCoordinate', 'Value': ''}, {'FormalName': 'ScrapPdfFileName', 'Value': ''}]}, 'NewsComponent': [{'Role': {'FormalName': 'Main'}, 'ContentItem': {'MediaType': {'FormalName': 'Text'}, 'MimeType': {'FormalName': 'text/plain'}, 'DataContent': '특성화고교(직업계고교) 재학생들은 졸업 전 전공 분야 현장실습을 나간다. 해당 분야에 대한 실무 역량을 갖춰 취업 역량을 높인다는 취지다. 취업 연계형 실습이 대부분으로 취업할 업체의 직무와 기업 문화를 미리 경험할 수 있는 장점이 있다. \\n \\n하지만 현장실습이 본래 취지와 거리가 있는 경우도 많았다. 국민일보가 만난 여러 학생은 어른들이 제대로 알려주지 않는 작업 현장의 위험을 몸으로 겪으며 알아가고 있었다. 어른들의 지시를 쉽게 거부할 수 없는 분위기 속에서 어린 노동자들은 위험을 당연한 것으로 받아들이게 됐다고 한다. \\n \\n 일도 위험도 홀로 부딪쳤다 \\n \\n경북 지역 한 학교 급식실에서 일하는 박태준(가명·18)군은 10일 “하루빨리 일에 노련해지고 싶다”고 말했다. 그가 말하는 ‘노련함’이란 ‘급식실에 도사리고 있는 여러 위험에서 하루빨리 익숙해지는 것’이었다. 일한 지 두 달도 안 된 박군의 손은 벌써 뜨거운 기름에 데어 빨갛게 부어있다고 했다. \\n \\n박군은 2019년 경북 지역 한 조리 특성화고에 진학했다. 그에게 특성화고 진학은 “꿈을 찾고, 미래를 그리고 싶던 순간”이었다. 졸업 후 좋은 일자리를 얻기 위해 더 부지런히 움직였다. 입학 후 한식 양식 중식 일식 자격증을 모두 땄고, 제과제빵 자격증까지 취득했다. 박군은 “취업 선택지가 많아질 것 같아 온갖 자격증을 다 따놨다”며 씁쓸하게 웃었다. \\n \\n3학년 2학기가 된 지난 9월 선생님은 박군에게 현장실습처로 학교 급식실을 제안했다. 박군은 막연히 ‘선생님이 좋은 곳이니 추천해주셨겠지’라고 생각했다. 친구들이 하나둘 취업 자리를 얻어 학교를 떠나고 있던 터라 마음도 조급했다. \\n \\n출근 첫날 급식실에서 다른 작업자들에게 첫인사를 건네자마자 지시가 쏟아지기 시작했다. 학교에선 따로 배운 적 없는 일이었다. 일단 하라는 대로 해야 했다. 작업 방법을 구체적으로 일러주는 사람도 없었다. 다른 작업자가 하는 것을 어깨너머로 볼 수밖에 없었다. 재료를 나르고 자르고 튀기고 익혔다. 물 마실 틈도 없이 첫날 일이 끝났다. \\n \\n학교에서 배우고 익힌 것과 달리 급식실은 단순하고 반복적인 업무가 많았다. 박군을 포함해 7명이 매일 700명이 먹을 점심을 준비했다. 1인당 100인분을 담당하는 셈이다. 코로나19 여파로 식사 인원을 분산하면서 배식 시간도 당겨졌다. 오전 7시50분에 출근한 뒤 정신없이 11시20분까지 조리를 완료해야 했다. 학교에서는 1, 2인분만 만들었던 터라 당황스러웠지만 그만둘 순 없었다. 기약 없는 취업 자리를 기다리는 것보다 일을 하고 있는 게 나을 거라고 생각했다. \\n \\n며칠 뒤 조리 메뉴에 ‘탕수육’이 나왔다. 단순해도 위험하지 않은 일을 한다고 여겼던 박군은 탕수육을 조리하며 위험을 가까이 느꼈다. 그가 학교에서 배운 탕수육 조리 방법은 튀김 옷을 입힌 고기가 달라붙지 않도록 시차를 두고 튀겨 건지는 것이었다. 하지만 700인분을 단시간에 조리해야 하는 현장에서는 학교에서 배운 조리법이 적용되지 않았다. \\n \\n“빨리 빨리.” 작업 중에도 재촉하는 지시가 끊임없이 들렸다. 조금씩 넣고 튀길 시간이 없었다. 일단 고기를 빠르게 기름에 넣었더니 그 안에서 다시 뭉쳤다. 도구를 활용할 줄도, 어디에 있는 줄도 몰랐다. 주변에서 알려준 건 “고기는 흔들어야 떨어진다”가 다였다. \\n \\n고무장갑을 낀 채 손을 그대로 기름에 넣어 하나씩 떼어냈다. 손가락 끝에서 전해지는 열기에 깜짝 놀랐지만 다른 방법을 찾을 시간이 없었다. 손을 펄펄 끓는 기름에 넣은 덕에 시간 내에 탕수육을 완성할 수 있었지만 손에는 물집이 남았다. 사라질 만하면 어김없이 튀김 메뉴가 등장했다. 박군은 “아무도 현장에서 지적을 하지 않아서 이런 방식이 위험하다는 사실조차 몰랐다”고 말했다. \\n \\n ‘위험’이 당연한 줄 아는 아이들 \\n \\n‘몸으로 배우는 위험’은 특성화고 재학생들의 공통 경험이다. 경기도 한 의류회사에서 현장실습 중인 김주민(가명·18)양도 마찬가지다. 실밥을 뜯고 원단에 사이즈를 체크해두는 일을 주로 해왔는데, 어느 날 공업용 스팀다리미가 김양 앞에 놓였다. 지시는 “빨리 다려주세요”뿐이었다. 학교에서도 공업용 스팀다리미는 배운 적이 없었다. 바쁜 작업자들 틈에서 사용방법을 물을 수 없었던 김양은 옆 작업자가 하는 대로 따라했다. 장갑도 끼지 않은 김양의 손에는 새빨간 화상 자국이 남았다. \\n \\n교육 당국도 현장실습의 순기능은 가져가면서 학생들이 겪는 문제점은 지속적으로 들여다본다는 입장이다. 이탄희 더불어민주당 의원실이 교육부로부터 제출받은 ‘직업계고 현장실습 권익침해(의심) 지도점검 현황’ 자료에 따르면 2019년 4만5727건이던 지도점검 건수는 2020년 5만576건으로 늘었다. 하지만 이 중 확인된 피해는 부당대우 9건, 성희롱 5건, 실습시간 초과 5건, 유해위험업무 4건뿐이었다. 최서현 특성화고교노조 위원장은 “학생들은 안전이나 노동 인권과 관련해 제대로 배우지 못한 상태로 실습에 나서기 때문에 자신의 근로상태가 위험한지, 부당한지조차 알 수 없는 것”이라고 지적했다. \\n \\n박군은 “사회는 원래 다 위험하고 힘든 것 아니냐”며 “적응을 하다 보면 나아지지 않을까 생각한다”고 말했다. 그는 정규직인 ‘조리공무원’이 되기 위해 시험을 준비하고 있다. 현장실습이 끝나면 무기계약직인 조리공무직으로 일하지만 지금보다 나은 미래를 위해 준비하는 것이다. 그는 “하루하루가 아슬아슬하긴 하지만 여기라도 취업한 게 어디냐”고 했다. \\n \\n박민지 기자 pmj@kmib.co.kr'}}, {'Role': {'FormalName': 'OriginMain'}, 'ContentItem': {'MediaType': {'FormalName': 'Text'}, 'MimeType': {'FormalName': 'text/plain'}, 'DataContent': '특성화고교(직업계고교) 재학생들은 졸업 전 전공 분야 현장실습을 나간다. 해당 분야에 대한 실무 역량을 갖춰 취업 역량을 높인다는 취지다. 취업 연계형 실습이 대부분으로 취업할 업체의 직무와 기업 문화를 미리 경험할 수 있는 장점이 있다.&amp;lt;br&amp;gt;&amp;lt;br&amp;gt;하지만 현장실습이 본래 취지와 거리가 있는 경우도 많았다. 국민일보가 만난 여러 학생은 어른들이 제대로 알려주지 않는 작업 현장의 위험을 몸으로 겪으며 알아가고 있었다. 어른들의 지시를 쉽게 거부할 수 없는 분위기 속에서 어린 노동자들은 위험을 당연한 것으로 받아들이게 됐다고 한다.&amp;lt;br&amp;gt;&amp;lt;br&amp;gt;&amp;lt;div style=&quot;padding-top:15px;padding-bottom:15px;border-top:1px solid #444;border-bottom:1px solid #eee;color:#333;font-size:20px;line-height:1.4;font-weight: bold;letter-spacing: -0.0733em;&quot;&amp;gt;일도 위험도 홀로 부딪쳤다&amp;lt;br&amp;gt;&amp;lt;/div&amp;gt;&amp;lt;br&amp;gt;경북 지역 한 학교 급식실에서 일하는 박태준(가명·18)군은 10일 “하루빨리 일에 노련해지고 싶다”고 말했다. 그가 말하는 ‘노련함’이란 ‘급식실에 도사리고 있는 여러 위험에서 하루빨리 익숙해지는 것’이었다. 일한 지 두 달도 안 된 박군의 손은 벌써 뜨거운 기름에 데어 빨갛게 부어있다고 했다.&amp;lt;br&amp;gt;&amp;lt;br&amp;gt;박군은 2019년 경북 지역 한 조리 특성화고에 진학했다. 그에게 특성화고 진학은 “꿈을 찾고, 미래를 그리고 싶던 순간”이었다. 졸업 후 좋은 일자리를 얻기 위해&amp;lt;b&amp;gt; &amp;lt;/b&amp;gt;더 부지런히 움직였다. 입학 후 한식 양식 중식 일식 자격증을 모두 땄고, 제과제빵 자격증까지 취득했다. 박군은 “취업 선택지가 많아질 것 같아 온갖 자격증을 다 따놨다”며 씁쓸하게 웃었다.&amp;lt;br&amp;gt;&amp;lt;br&amp;gt;3학년 2학기가 된 지난 9월 선생님은 박군에게 현장실습처로 학교 급식실을 제안했다. 박군은 막연히 ‘선생님이 좋은 곳이니 추천해주셨겠지’라고 생각했다. 친구들이 하나둘 취업 자리를 얻어 학교를 떠나고 있던 터라 마음도 조급했다.&amp;lt;br&amp;gt;&amp;lt;br&amp;gt;출근 첫날 급식실에서 다른 작업자들에게 첫인사를 건네자마자 지시가 쏟아지기 시작했다. 학교에선 따로 배운 적 없는 일이었다. 일단 하라는 대로 해야 했다. 작업 방법을 구체적으로 일러주는 사람도 없었다. 다른 작업자가 하는 것을 어깨너머로 볼 수밖에 없었다. 재료를 나르고 자르고 튀기고 익혔다. 물 마실 틈도 없이 첫날 일이 끝났다.&amp;lt;br&amp;gt;&amp;lt;br&amp;gt;학교에서 배우고 익힌 것과 달리 급식실은 단순하고 반복적인 업무가 많았다. 박군을 포함해 7명이 매일 700명이 먹을 점심을 준비했다. 1인당 100인분을 담당하는 셈이다. 코로나19 여파로 식사 인원을 분산하면서 배식 시간도 당겨졌다. 오전 7시50분에 출근한 뒤 정신없이 11시20분까지 조리를 완료해야 했다. 학교에서는 1, 2인분만 만들었던 터라 당황스러웠지만 그만둘 순 없었다. 기약 없는 취업 자리를 기다리는 것보다 일을 하고 있는 게 나을 거라고 생각했다.&amp;lt;br&amp;gt;&amp;lt;br&amp;gt;며칠 뒤 조리 메뉴에 ‘탕수육’이 나왔다. 단순해도 위험하지 않은 일을 한다고 여겼던 박군은 탕수육을 조리하며 위험을 가까이 느꼈다. 그가 학교에서 배운 탕수육 조리 방법은 튀김 옷을 입힌 고기가 달라붙지 않도록 시차를 두고 튀겨 건지는 것이었다. 하지만 700인분을 단시간에 조리해야 하는 현장에서는 학교에서 배운 조리법이 적용되지 않았다.&amp;lt;br&amp;gt;&amp;lt;br&amp;gt;“빨리 빨리.” 작업 중에도 재촉하는 지시가 끊임없이 들렸다. 조금씩 넣고 튀길 시간이 없었다. 일단 고기를 빠르게 기름에 넣었더니 그 안에서 다시 뭉쳤다. 도구를 활용할 줄도, 어디에 있는 줄도 몰랐다. 주변에서 알려준 건 “고기는 흔들어야 떨어진다”가 다였다.&amp;lt;br&amp;gt;&amp;lt;br&amp;gt;고무장갑을 낀 채 손을 그대로 기름에 넣어 하나씩 떼어냈다. 손가락 끝에서 전해지는 열기에 깜짝 놀랐지만 다른 방법을 찾을 시간이 없었다. 손을 펄펄 끓는 기름에 넣은 덕에 시간 내에 탕수육을 완성할 수 있었지만 손에는 물집이 남았다. 사라질 만하면 어김없이 튀김 메뉴가 등장했다. 박군은 “아무도 현장에서 지적을 하지 않아서 이런 방식이 위험하다는 사실조차 몰랐다”고 말했다.&amp;lt;br&amp;gt;&amp;lt;br&amp;gt;&amp;lt;div style=&quot;padding-top:15px;padding-bottom:15px;border-top:1px solid #444;border-bottom:1px solid #eee;color:#333;font-size:20px;line-height:1.4;font-weight: bold;letter-spacing: -0.0733em;&quot;&amp;gt;‘위험’이 당연한 줄 아는 아이들&amp;lt;br&amp;gt;&amp;lt;/div&amp;gt;&amp;lt;br&amp;gt;‘몸으로 배우는 위험’은 특성화고 재학생들의 공통 경험이다. 경기도 한 의류회사에서 현장실습 중인 김주민(가명·18)양도 마찬가지다. 실밥을 뜯고 원단에 사이즈를 체크해두는 일을 주로 해왔는데, 어느 날 공업용 스팀다리미가 김양 앞에 놓였다. 지시는 “빨리 다려주세요”뿐이었다. 학교에서도 공업용 스팀다리미는 배운 적이 없었다. 바쁜 작업자들 틈에서 사용방법을 물을 수 없었던 김양은 옆 작업자가 하는 대로 따라했다. 장갑도 끼지 않은 김양의 손에는 새빨간 화상 자국이 남았다.&amp;lt;br&amp;gt;&amp;lt;br&amp;gt;교육 당국도 현장실습의 순기능은 가져가면서 학생들이 겪는 문제점은 지속적으로 들여다본다는 입장이다. 이탄희 더불어민주당 의원실이 교육부로부터 제출받은 ‘직업계고 현장실습 권익침해(의심) 지도점검 현황’ 자료에 따르면 2019년 4만5727건이던 지도점검 건수는 2020년 5만576건으로 늘었다. 하지만 이 중 확인된 피해는 부당대우 9건, 성희롱 5건, 실습시간 초과 5건, 유해위험업무 4건뿐이었다. 최서현 특성화고교노조 위원장은 “학생들은 안전이나 노동 인권과 관련해 제대로 배우지 못한 상태로 실습에 나서기 때문에 자신의 근로상태가 위험한지, 부당한지조차 알 수 없는 것”이라고 지적했다.&amp;lt;br&amp;gt;&amp;lt;br&amp;gt;박군은 “사회는 원래 다 위험하고 힘든 것 아니냐”며 “적응을 하다 보면 나아지지 않을까 생각한다”고 말했다. 그는 정규직인 ‘조리공무원’이 되기 위해 시험을 준비하고 있다. 현장실습이 끝나면 무기계약직인 조리공무직으로 일하지만 지금보다 나은 미래를 위해 준비하는 것이다. 그는 “하루하루가 아슬아슬하긴 하지만 여기라도 취업한 게 어디냐”고 했다.&amp;lt;br&amp;gt;&amp;lt;br&amp;gt;박민지 기자 pmj@kmib.co.kr&amp;lt;br&amp;gt;&amp;lt;br&amp;gt;GoodNews paper ⓒ &amp;lt;a href=&quot;http://www.kmib.co.kr&quot; target=&quot;_blank&quot;&amp;gt;국민일보(www.kmib.co.kr)&amp;lt;/a&amp;gt;, 무단전재 및 수집, 재배포금지'}}, {'Role': {'FormalName': 'Photo'}, 'NewsComponent': [{'Role': {'FormalName': 'Preview'}, 'ContentItem': {'Href': '01100201.20211111000455001.01.jpg', 'MediaType': {'FormalName': 'Photo'}, 'Format': {'FormalName': 'JPEG Baseline'}, 'MimeType': {'FormalName': 'image/jpeg'}, 'Characteristics': {'PhotoItemId': None, 'SizeInBytes': '131219', 'Property': [{'FormalName': 'Width', 'Value': '640'}, {'FormalName': 'Height', 'Value': '453'}, {'FormalName': 'ColorSpace', 'Value': ''}, {'FormalName': 'ICCProfile', 'Value': ''}]}}}, {'Role': {'FormalName': 'Caption'}, 'ContentItem': {'MediaType': {'FormalName': 'Text'}, 'MimeType': {'FormalName': 'text/plain'}, 'DataContent': '한 학교 급식실에서 조리원들이 뜨거운 솥을 씻고 있다. 특성화고(직업계고)에 재학 중인 학생들은 졸업 전 급식실을 포함해 전공 분야 현장실습을 나간다. 취업할 곳의 직무와 문화를 미리 경험한다는 장점도 있지만 위험에 별다른 대비 없이 노출되는 경우도 많다. 전국특성화고 노조 제공'}}]}, {'Role': {'FormalName': 'Photo'}, 'NewsComponent': [{'Role': {'FormalName': 'Preview'}, 'ContentItem': {'Href': '01100201.20211111000455001.02.jpg', 'MediaType': {'FormalName': 'Photo'}, 'Format': {'FormalName': 'JPEG Baseline'}, 'MimeType': {'FormalName': 'image/jpeg'}, 'Characteristics': {'PhotoItemId': None, 'SizeInBytes': '118694', 'Property': [{'FormalName': 'Width', 'Value': '500'}, {'FormalName': 'Height', 'Value': '844'}, {'FormalName': 'ColorSpace', 'Value': ''}, {'FormalName': 'ICCProfile', 'Value': ''}]}}}, {'Role': {'FormalName': 'Caption'}, 'ContentItem': {'MediaType': {'FormalName': 'Text'}, 'MimeType': {'FormalName': 'text/plain'}, 'DataContent': '조리원들이 조리대 위에 올라가 청소를 하고 있다. 전국특성화고 노조 제공'}}]}]}}, '@timestamp': '2022-11-28T18:05:10.623Z'}\n",
      "01100201.20211111000455001\n"
     ]
    },
    {
     "name": "stderr",
     "output_type": "stream",
     "text": [
      "C:\\Users\\user\\AppData\\Local\\Temp\\ipykernel_6464\\3717368670.py:27: DeprecationWarning: The 'body' parameter is deprecated for the 'index' API and will be removed in a future version. Instead use the 'document' parameter. See https://github.com/elastic/elasticsearch-py/issues/1698 for more information\n",
      "  result = es.index(index=index, doc_type=\"_doc\", body=json_dict, id='test')\n"
     ]
    }
   ],
   "source": [
    "# es에 추가하는 def\n",
    "from elasticsearch import Elasticsearch\n",
    "from newsml_to_json import make_json\n",
    "\n",
    "es = Elasticsearch('http://localhost:9199')\n",
    "\n",
    "mapping = {\n",
    "    \"settings\" : {\n",
    "        \"number_of_shards\": 6,\n",
    "        \"number_of_replicas\": 1\n",
    "    }\n",
    "}\n",
    "\n",
    "def add_doc(xml_path):\n",
    "    # xml -> json 변환\n",
    "    json_dict = make_json(xml_path)\n",
    "    print(json_dict)\n",
    "    index = \"kpf_bigkindslab_v1.1_\" + json_dict['NewsEnvelope']['DateAndTime'][:6]\n",
    "    news_id = json_dict['NewsItem']['Identification']['NewsIdentifier']['NewsItemId']\n",
    "    print(news_id)\n",
    "    # index가 존재하는 지 확인\n",
    "    # index 없을 경우 index 생성 후 doc 추가\n",
    "    if es.indices.exists(index=index)==False:\n",
    "        es.indices.create(index=index, body=mapping)\n",
    "        # realtime_logger.info('index create : '+date)\n",
    "\n",
    "    result = es.index(index=index, doc_type=\"_doc\", body=json_dict, id='test') \n",
    "\n",
    "add_doc('../data/01100201.20211111000455001.xml')"
   ]
  },
  {
   "cell_type": "code",
   "execution_count": 6,
   "metadata": {},
   "outputs": [
    {
     "name": "stdout",
     "output_type": "stream",
     "text": [
      "2022-11-28T17:57:13.869Z\n"
     ]
    }
   ],
   "source": [
    "from datetime import datetime as dt\n",
    "# import datetime\n",
    "# print(datetime.utcnow().strftime('%Y-%m-%dT%H:%M:%S.%f')[:-3] + 'Z')\n",
    "\n",
    "now = dt.now().strftime('%Y-%m-%dT%H:%M:%S.%f')[:-3] + 'Z'\n",
    "print(now)\n",
    "# now.strftime('%Y%m%dT%H%M%S')"
   ]
  }
 ],
 "metadata": {
  "kernelspec": {
   "display_name": "Python 3.9.13 ('base')",
   "language": "python",
   "name": "python3"
  },
  "language_info": {
   "codemirror_mode": {
    "name": "ipython",
    "version": 3
   },
   "file_extension": ".py",
   "mimetype": "text/x-python",
   "name": "python",
   "nbconvert_exporter": "python",
   "pygments_lexer": "ipython3",
   "version": "3.9.13"
  },
  "orig_nbformat": 4,
  "vscode": {
   "interpreter": {
    "hash": "f1a4a2f3c51900e879c65470871c76860eabd5596e5067eeaa31aed8adcbad33"
   }
  }
 },
 "nbformat": 4,
 "nbformat_minor": 2
}
