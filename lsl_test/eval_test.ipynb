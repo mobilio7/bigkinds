{
 "cells": [
  {
   "cell_type": "code",
   "execution_count": 1,
   "metadata": {},
   "outputs": [],
   "source": [
    "# confusion matrix 사용을 위한 라이브러리\n",
    "from sklearn.metrics import confusion_matrix\n",
    "\n"
   ]
  },
  {
   "cell_type": "code",
   "execution_count": 2,
   "metadata": {},
   "outputs": [],
   "source": [
    "# import json\n",
    "\n",
    "# with open('valid_original.json', 'r', encoding='UTF-8') as f:\n",
    "#     json_data = json.load(f)"
   ]
  },
  {
   "cell_type": "code",
   "execution_count": 3,
   "metadata": {},
   "outputs": [],
   "source": [
    "# dict_arr = []\n",
    "\n",
    "# for doc in json_data['documents']:\n",
    "#     print(doc)\n",
    "#     dict_data = dict()\n",
    "#     # dict_data['media'] = doc['media_name']\n",
    "#     dict_data['id'] = doc['id']\n",
    "#     dict_data['abstractive'] = doc['abstractive'][0]\n",
    "#     dict_data['extractive'] = doc['extractive']\n",
    "#     para = []\n",
    "#     for sent in doc['text']:\n",
    "#         for s in sent:\n",
    "#             para.append(s['sentence'])\n",
    "#     dict_data['article_original'] = para\n",
    "    \n",
    "#     a = doc['extractive']\n",
    "#     if a[0] == None or a[1] == None or a[2] == None:\n",
    "#         continue\n",
    "#     dict_arr.append(dict_data)\n",
    "\n",
    "# print(dict_arr)\n",
    "\n",
    "    # line = []\n",
    "    # line.append(doc['media_name'])\n",
    "    # line.append(doc['id'])\n",
    "    # para = []\n",
    "    # for sent in doc['text']:\n",
    "    #     for s in sent:\n",
    "    #         para.append(s['sentence'])\n",
    "    # line.append(para)\n",
    "    # line.append(doc['abstractive'][0])\n",
    "    # line.append(doc['extractive'])\n",
    "    # a = doc['extractive']\n",
    "    # if a[0] == None or a[1] == None or a[2] == None:\n",
    "    #     continue\n",
    "    # outs.append(line)\n",
    "\n",
    "# outs_df = pd.DataFrame(outs)\n",
    "# outs_df.columns = ['media', 'id', 'article_original', 'abstractive', 'extractive']"
   ]
  }
 ],
 "metadata": {
  "kernelspec": {
   "display_name": "Python 3.9.13 ('base')",
   "language": "python",
   "name": "python3"
  },
  "language_info": {
   "codemirror_mode": {
    "name": "ipython",
    "version": 3
   },
   "file_extension": ".py",
   "mimetype": "text/x-python",
   "name": "python",
   "nbconvert_exporter": "python",
   "pygments_lexer": "ipython3",
   "version": "3.9.13"
  },
  "orig_nbformat": 4,
  "vscode": {
   "interpreter": {
    "hash": "f1a4a2f3c51900e879c65470871c76860eabd5596e5067eeaa31aed8adcbad33"
   }
  }
 },
 "nbformat": 4,
 "nbformat_minor": 2
}
